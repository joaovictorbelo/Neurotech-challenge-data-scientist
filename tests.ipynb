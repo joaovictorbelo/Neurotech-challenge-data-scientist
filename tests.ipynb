{
 "cells": [
  {
   "attachments": {},
   "cell_type": "markdown",
   "metadata": {},
   "source": [
    "# TESTES DOS ENDPOINTS"
   ]
  },
  {
   "attachments": {},
   "cell_type": "markdown",
   "metadata": {},
   "source": [
    "## Teste de Volumetria e Performance"
   ]
  },
  {
   "attachments": {},
   "cell_type": "markdown",
   "metadata": {},
   "source": [
    "- resposta da volumetria como um dict no formato {'ANO-MES': qnt ... 'ANO-MES': qnt}\n",
    "- resposta da performance como um float com o valor da area sob a curva"
   ]
  },
  {
   "cell_type": "code",
   "execution_count": 5,
   "metadata": {},
   "outputs": [
    {
     "name": "stdout",
     "output_type": "stream",
     "text": [
      "{'volumetria': {'2017-01': 58, '2017-02': 55, '2017-03': 62, '2017-04': 49, '2017-05': 67, '2017-06': 63, '2017-07': 74, '2017-08': 72}, 'performance': 0.5751748251748252}\n"
     ]
    }
   ],
   "source": [
    "import json\n",
    "import requests\n",
    "\n",
    "# read the data in the file batch_records.json\n",
    "with open(\"batch_records.json\") as records:\n",
    "    data = json.load(records)\n",
    "\n",
    "# send the POST request to the server\n",
    "res = requests.post(\n",
    "    \"http://127.0.0.1:8000/v1/performance/\",\n",
    "    json = data\n",
    ")\n",
    "\n",
    "print(json.loads(res.content))"
   ]
  },
  {
   "attachments": {},
   "cell_type": "markdown",
   "metadata": {},
   "source": [
    "## Teste de Aderencia"
   ]
  },
  {
   "attachments": {},
   "cell_type": "markdown",
   "metadata": {},
   "source": [
    "- resposta da aderencia dado pelo valor calculado no teste estatistico de kolmogorov smirnov usando a escoragem feita com o dataset passado como argumento e do dataset de teste"
   ]
  },
  {
   "cell_type": "code",
   "execution_count": 7,
   "metadata": {},
   "outputs": [
    {
     "name": "stdout",
     "output_type": "stream",
     "text": [
      "{'train': b'{\"aderencia\":0.002759858953621075}', 'oot': b'{\"aderencia\":0.020915414151451373}'}\n"
     ]
    }
   ],
   "source": [
    "import requests\n",
    "\n",
    "# send the POST request to the server for the train dataset\n",
    "res_train = requests.post(\n",
    "    \"http://127.0.0.1:8000/v1/aderencia/\",\n",
    "    json = {\n",
    "        \"path\": \"/Neurotech-challenge-data-scientist/datasets/train.gz\"\n",
    "    }\n",
    ")\n",
    "\n",
    "# send the POST request to the server for the oot dataset\n",
    "res_oot = requests.post(\n",
    "    \"http://127.0.0.1:8000/v1/aderencia/\",\n",
    "    json = {\n",
    "        \"path\": \"/Neurotech-challenge-data-scientist/datasets/oot.gz\"\n",
    "    }\n",
    ")\n",
    "\n",
    "result = {\n",
    "    \"train\": res_train.content,\n",
    "    \"oot\": res_oot.content,\n",
    "}\n",
    "\n",
    "print(result)"
   ]
  }
 ],
 "metadata": {
  "kernelspec": {
   "display_name": "neurotech",
   "language": "python",
   "name": "python3"
  },
  "language_info": {
   "codemirror_mode": {
    "name": "ipython",
    "version": 3
   },
   "file_extension": ".py",
   "mimetype": "text/x-python",
   "name": "python",
   "nbconvert_exporter": "python",
   "pygments_lexer": "ipython3",
   "version": "3.10.9"
  },
  "orig_nbformat": 4
 },
 "nbformat": 4,
 "nbformat_minor": 2
}
